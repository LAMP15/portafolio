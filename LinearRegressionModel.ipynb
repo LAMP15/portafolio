{
 "cells": [
  {
   "cell_type": "markdown",
   "id": "18e7815e-8651-4933-abe5-9bf7b777f51f",
   "metadata": {},
   "source": [
    "### Machines Learning with Python - Linear Regression "
   ]
  },
  {
   "cell_type": "code",
   "execution_count": 3,
   "id": "d52afec2-44d5-42b1-b09f-358a376e8a8e",
   "metadata": {},
   "outputs": [
    {
     "name": "stdout",
     "output_type": "stream",
     "text": [
      "Defaulting to user installation because normal site-packages is not writeable\n",
      "Requirement already satisfied: yfinance in c:\\users\\luism\\appdata\\roaming\\python\\python310\\site-packages (0.2.18)\n",
      "Requirement already satisfied: multitasking>=0.0.7 in c:\\users\\luism\\appdata\\roaming\\python\\python310\\site-packages (from yfinance) (0.0.11)\n",
      "Requirement already satisfied: numpy>=1.16.5 in c:\\programdata\\anaconda3\\lib\\site-packages (from yfinance) (1.23.5)\n",
      "Requirement already satisfied: cryptography>=3.3.2 in c:\\programdata\\anaconda3\\lib\\site-packages (from yfinance) (39.0.1)\n",
      "Requirement already satisfied: beautifulsoup4>=4.11.1 in c:\\programdata\\anaconda3\\lib\\site-packages (from yfinance) (4.11.1)\n",
      "Requirement already satisfied: html5lib>=1.1 in c:\\users\\luism\\appdata\\roaming\\python\\python310\\site-packages (from yfinance) (1.1)\n",
      "Requirement already satisfied: pytz>=2022.5 in c:\\programdata\\anaconda3\\lib\\site-packages (from yfinance) (2022.7)\n",
      "Requirement already satisfied: requests>=2.26 in c:\\programdata\\anaconda3\\lib\\site-packages (from yfinance) (2.28.1)\n",
      "Requirement already satisfied: appdirs>=1.4.4 in c:\\programdata\\anaconda3\\lib\\site-packages (from yfinance) (1.4.4)\n",
      "Requirement already satisfied: frozendict>=2.3.4 in c:\\users\\luism\\appdata\\roaming\\python\\python310\\site-packages (from yfinance) (2.3.8)\n",
      "Requirement already satisfied: lxml>=4.9.1 in c:\\programdata\\anaconda3\\lib\\site-packages (from yfinance) (4.9.1)\n",
      "Requirement already satisfied: pandas>=1.3.0 in c:\\programdata\\anaconda3\\lib\\site-packages (from yfinance) (1.5.3)\n",
      "Requirement already satisfied: soupsieve>1.2 in c:\\programdata\\anaconda3\\lib\\site-packages (from beautifulsoup4>=4.11.1->yfinance) (2.3.2.post1)\n",
      "Requirement already satisfied: cffi>=1.12 in c:\\programdata\\anaconda3\\lib\\site-packages (from cryptography>=3.3.2->yfinance) (1.15.1)\n",
      "Requirement already satisfied: webencodings in c:\\programdata\\anaconda3\\lib\\site-packages (from html5lib>=1.1->yfinance) (0.5.1)\n",
      "Requirement already satisfied: six>=1.9 in c:\\programdata\\anaconda3\\lib\\site-packages (from html5lib>=1.1->yfinance) (1.16.0)\n",
      "Requirement already satisfied: python-dateutil>=2.8.1 in c:\\programdata\\anaconda3\\lib\\site-packages (from pandas>=1.3.0->yfinance) (2.8.2)\n",
      "Requirement already satisfied: certifi>=2017.4.17 in c:\\programdata\\anaconda3\\lib\\site-packages (from requests>=2.26->yfinance) (2022.12.7)\n",
      "Requirement already satisfied: idna<4,>=2.5 in c:\\programdata\\anaconda3\\lib\\site-packages (from requests>=2.26->yfinance) (3.4)\n",
      "Requirement already satisfied: charset-normalizer<3,>=2 in c:\\programdata\\anaconda3\\lib\\site-packages (from requests>=2.26->yfinance) (2.0.4)\n",
      "Requirement already satisfied: urllib3<1.27,>=1.21.1 in c:\\programdata\\anaconda3\\lib\\site-packages (from requests>=2.26->yfinance) (1.26.14)\n",
      "Requirement already satisfied: pycparser in c:\\programdata\\anaconda3\\lib\\site-packages (from cffi>=1.12->cryptography>=3.3.2->yfinance) (2.21)\n"
     ]
    }
   ],
   "source": [
    "!pip install yfinance"
   ]
  },
  {
   "cell_type": "code",
   "execution_count": 11,
   "id": "318dd454-3528-486f-9897-035993f304a1",
   "metadata": {},
   "outputs": [],
   "source": [
    "import numpy as np\n",
    "import pandas as pd\n",
    "from datetime import datetime\n",
    "import yfinance as yf"
   ]
  },
  {
   "cell_type": "code",
   "execution_count": 69,
   "id": "98afded4-c93f-4d93-981c-d776a66c24fd",
   "metadata": {},
   "outputs": [
    {
     "name": "stdout",
     "output_type": "stream",
     "text": [
      "[*********************100%***********************]  2 of 2 completed\n"
     ]
    },
    {
     "data": {
      "text/html": [
       "<div>\n",
       "<style scoped>\n",
       "    .dataframe tbody tr th:only-of-type {\n",
       "        vertical-align: middle;\n",
       "    }\n",
       "\n",
       "    .dataframe tbody tr th {\n",
       "        vertical-align: top;\n",
       "    }\n",
       "\n",
       "    .dataframe thead tr th {\n",
       "        text-align: left;\n",
       "    }\n",
       "\n",
       "    .dataframe thead tr:last-of-type th {\n",
       "        text-align: right;\n",
       "    }\n",
       "</style>\n",
       "<table border=\"1\" class=\"dataframe\">\n",
       "  <thead>\n",
       "    <tr>\n",
       "      <th></th>\n",
       "      <th colspan=\"2\" halign=\"left\">Adj Close</th>\n",
       "      <th colspan=\"2\" halign=\"left\">Close</th>\n",
       "      <th colspan=\"2\" halign=\"left\">High</th>\n",
       "      <th colspan=\"2\" halign=\"left\">Low</th>\n",
       "      <th colspan=\"2\" halign=\"left\">Open</th>\n",
       "      <th colspan=\"2\" halign=\"left\">Volume</th>\n",
       "    </tr>\n",
       "    <tr>\n",
       "      <th></th>\n",
       "      <th>MSFT</th>\n",
       "      <th>SPY</th>\n",
       "      <th>MSFT</th>\n",
       "      <th>SPY</th>\n",
       "      <th>MSFT</th>\n",
       "      <th>SPY</th>\n",
       "      <th>MSFT</th>\n",
       "      <th>SPY</th>\n",
       "      <th>MSFT</th>\n",
       "      <th>SPY</th>\n",
       "      <th>MSFT</th>\n",
       "      <th>SPY</th>\n",
       "    </tr>\n",
       "    <tr>\n",
       "      <th>Date</th>\n",
       "      <th></th>\n",
       "      <th></th>\n",
       "      <th></th>\n",
       "      <th></th>\n",
       "      <th></th>\n",
       "      <th></th>\n",
       "      <th></th>\n",
       "      <th></th>\n",
       "      <th></th>\n",
       "      <th></th>\n",
       "      <th></th>\n",
       "      <th></th>\n",
       "    </tr>\n",
       "  </thead>\n",
       "  <tbody>\n",
       "    <tr>\n",
       "      <th>2010-01-01</th>\n",
       "      <td>21.462662</td>\n",
       "      <td>83.499344</td>\n",
       "      <td>28.180000</td>\n",
       "      <td>107.389999</td>\n",
       "      <td>31.240000</td>\n",
       "      <td>115.139999</td>\n",
       "      <td>27.660000</td>\n",
       "      <td>107.220001</td>\n",
       "      <td>30.620001</td>\n",
       "      <td>112.370003</td>\n",
       "      <td>1359650900</td>\n",
       "      <td>3706842300</td>\n",
       "    </tr>\n",
       "    <tr>\n",
       "      <th>2010-02-01</th>\n",
       "      <td>21.835857</td>\n",
       "      <td>86.104057</td>\n",
       "      <td>28.670000</td>\n",
       "      <td>110.739998</td>\n",
       "      <td>29.030001</td>\n",
       "      <td>111.580002</td>\n",
       "      <td>27.570000</td>\n",
       "      <td>104.580002</td>\n",
       "      <td>28.389999</td>\n",
       "      <td>108.150002</td>\n",
       "      <td>1074643300</td>\n",
       "      <td>4451912400</td>\n",
       "    </tr>\n",
       "    <tr>\n",
       "      <th>2010-03-01</th>\n",
       "      <td>22.412392</td>\n",
       "      <td>90.971436</td>\n",
       "      <td>29.290001</td>\n",
       "      <td>117.000000</td>\n",
       "      <td>30.570000</td>\n",
       "      <td>118.169998</td>\n",
       "      <td>28.240000</td>\n",
       "      <td>111.169998</td>\n",
       "      <td>28.770000</td>\n",
       "      <td>111.199997</td>\n",
       "      <td>1110237200</td>\n",
       "      <td>3899688500</td>\n",
       "    </tr>\n",
       "    <tr>\n",
       "      <th>2010-04-01</th>\n",
       "      <td>23.368866</td>\n",
       "      <td>92.759224</td>\n",
       "      <td>30.540001</td>\n",
       "      <td>118.809998</td>\n",
       "      <td>31.580000</td>\n",
       "      <td>122.120003</td>\n",
       "      <td>28.620001</td>\n",
       "      <td>117.099998</td>\n",
       "      <td>29.350000</td>\n",
       "      <td>117.800003</td>\n",
       "      <td>1319029500</td>\n",
       "      <td>3887089700</td>\n",
       "    </tr>\n",
       "    <tr>\n",
       "      <th>2010-05-01</th>\n",
       "      <td>19.741879</td>\n",
       "      <td>85.389069</td>\n",
       "      <td>25.799999</td>\n",
       "      <td>109.370003</td>\n",
       "      <td>31.059999</td>\n",
       "      <td>120.680000</td>\n",
       "      <td>24.559999</td>\n",
       "      <td>104.379997</td>\n",
       "      <td>30.670000</td>\n",
       "      <td>119.379997</td>\n",
       "      <td>1720130200</td>\n",
       "      <td>7413878800</td>\n",
       "    </tr>\n",
       "  </tbody>\n",
       "</table>\n",
       "</div>"
      ],
      "text/plain": [
       "            Adj Close                 Close                   High  \\\n",
       "                 MSFT        SPY       MSFT         SPY       MSFT   \n",
       "Date                                                                 \n",
       "2010-01-01  21.462662  83.499344  28.180000  107.389999  31.240000   \n",
       "2010-02-01  21.835857  86.104057  28.670000  110.739998  29.030001   \n",
       "2010-03-01  22.412392  90.971436  29.290001  117.000000  30.570000   \n",
       "2010-04-01  23.368866  92.759224  30.540001  118.809998  31.580000   \n",
       "2010-05-01  19.741879  85.389069  25.799999  109.370003  31.059999   \n",
       "\n",
       "                              Low                   Open              \\\n",
       "                   SPY       MSFT         SPY       MSFT         SPY   \n",
       "Date                                                                   \n",
       "2010-01-01  115.139999  27.660000  107.220001  30.620001  112.370003   \n",
       "2010-02-01  111.580002  27.570000  104.580002  28.389999  108.150002   \n",
       "2010-03-01  118.169998  28.240000  111.169998  28.770000  111.199997   \n",
       "2010-04-01  122.120003  28.620001  117.099998  29.350000  117.800003   \n",
       "2010-05-01  120.680000  24.559999  104.379997  30.670000  119.379997   \n",
       "\n",
       "                Volume              \n",
       "                  MSFT         SPY  \n",
       "Date                                \n",
       "2010-01-01  1359650900  3706842300  \n",
       "2010-02-01  1074643300  4451912400  \n",
       "2010-03-01  1110237200  3899688500  \n",
       "2010-04-01  1319029500  3887089700  \n",
       "2010-05-01  1720130200  7413878800  "
      ]
     },
     "execution_count": 69,
     "metadata": {},
     "output_type": "execute_result"
    }
   ],
   "source": [
    "start_date = datetime(2010, 1 , 1)\n",
    "end_date = datetime(2021, 12, 31)\n",
    "\n",
    "stock_data = yf.download('SPY MSFT',\n",
    "                         interval = \"1mo\",\n",
    "                         start = start_date,\n",
    "                         end = end_date)\n",
    "stock_data.head()"
   ]
  },
  {
   "cell_type": "code",
   "execution_count": 70,
   "id": "a864dd97-816e-44bb-9434-0048f6f94a75",
   "metadata": {},
   "outputs": [
    {
     "data": {
      "text/plain": [
       "MultiIndex([('Adj Close', 'MSFT'),\n",
       "            ('Adj Close',  'SPY'),\n",
       "            (    'Close', 'MSFT'),\n",
       "            (    'Close',  'SPY'),\n",
       "            (     'High', 'MSFT'),\n",
       "            (     'High',  'SPY'),\n",
       "            (      'Low', 'MSFT'),\n",
       "            (      'Low',  'SPY'),\n",
       "            (     'Open', 'MSFT'),\n",
       "            (     'Open',  'SPY'),\n",
       "            (   'Volume', 'MSFT'),\n",
       "            (   'Volume',  'SPY')],\n",
       "           )"
      ]
     },
     "execution_count": 70,
     "metadata": {},
     "output_type": "execute_result"
    }
   ],
   "source": [
    "stock_data.columns"
   ]
  },
  {
   "cell_type": "code",
   "execution_count": 71,
   "id": "6e11f77d-67ba-4634-a9c0-d9b8b952b6ed",
   "metadata": {},
   "outputs": [
    {
     "data": {
      "text/html": [
       "<div>\n",
       "<style scoped>\n",
       "    .dataframe tbody tr th:only-of-type {\n",
       "        vertical-align: middle;\n",
       "    }\n",
       "\n",
       "    .dataframe tbody tr th {\n",
       "        vertical-align: top;\n",
       "    }\n",
       "\n",
       "    .dataframe thead th {\n",
       "        text-align: right;\n",
       "    }\n",
       "</style>\n",
       "<table border=\"1\" class=\"dataframe\">\n",
       "  <thead>\n",
       "    <tr style=\"text-align: right;\">\n",
       "      <th></th>\n",
       "      <th>MSFT</th>\n",
       "      <th>SPY</th>\n",
       "    </tr>\n",
       "    <tr>\n",
       "      <th>Date</th>\n",
       "      <th></th>\n",
       "      <th></th>\n",
       "    </tr>\n",
       "  </thead>\n",
       "  <tbody>\n",
       "    <tr>\n",
       "      <th>2010-02-01</th>\n",
       "      <td>0.017388</td>\n",
       "      <td>0.031194</td>\n",
       "    </tr>\n",
       "    <tr>\n",
       "      <th>2010-03-01</th>\n",
       "      <td>0.026403</td>\n",
       "      <td>0.056529</td>\n",
       "    </tr>\n",
       "    <tr>\n",
       "      <th>2010-04-01</th>\n",
       "      <td>0.042676</td>\n",
       "      <td>0.019652</td>\n",
       "    </tr>\n",
       "    <tr>\n",
       "      <th>2010-05-01</th>\n",
       "      <td>-0.155206</td>\n",
       "      <td>-0.079455</td>\n",
       "    </tr>\n",
       "    <tr>\n",
       "      <th>2010-06-01</th>\n",
       "      <td>-0.104116</td>\n",
       "      <td>-0.056231</td>\n",
       "    </tr>\n",
       "  </tbody>\n",
       "</table>\n",
       "</div>"
      ],
      "text/plain": [
       "                MSFT       SPY\n",
       "Date                          \n",
       "2010-02-01  0.017388  0.031194\n",
       "2010-03-01  0.026403  0.056529\n",
       "2010-04-01  0.042676  0.019652\n",
       "2010-05-01 -0.155206 -0.079455\n",
       "2010-06-01 -0.104116 -0.056231"
      ]
     },
     "execution_count": 71,
     "metadata": {},
     "output_type": "execute_result"
    }
   ],
   "source": [
    "stock_data_adj_close = stock_data.iloc[:,stock_data.columns.get_level_values(0) == 'Adj Close'].pct_change().dropna()\n",
    "stock_data_adj_close.columns = ['MSFT','SPY']\n",
    "stock_data_adj_close.head()"
   ]
  },
  {
   "cell_type": "code",
   "execution_count": 72,
   "id": "cf916e19-4fa8-4a3c-b1ad-ec262f078b22",
   "metadata": {},
   "outputs": [],
   "source": [
    "from seaborn import scatterplot"
   ]
  },
  {
   "cell_type": "code",
   "execution_count": 73,
   "id": "fc638be1-7a8e-4dc8-974c-93f5f2bc1784",
   "metadata": {},
   "outputs": [
    {
     "data": {
      "text/plain": [
       "<Axes: xlabel='MSFT', ylabel='SPY'>"
      ]
     },
     "execution_count": 73,
     "metadata": {},
     "output_type": "execute_result"
    },
    {
     "data": {
      "image/png": "[encoded data removed]",
      "text/plain": [
       "<Figure size 640x480 with 1 Axes>"
      ]
     },
     "metadata": {},
     "output_type": "display_data"
    }
   ],
   "source": [
    "scatterplot(data = stock_data_adj_close, x = 'MSFT', y = 'SPY')"
   ]
  },
  {
   "cell_type": "code",
   "execution_count": 74,
   "id": "e927ec81-560c-4e8d-b007-3f96633f14e2",
   "metadata": {},
   "outputs": [],
   "source": [
    "x = stock_data_adj_close.SPY.values\n",
    "\n",
    "ones = np.ones(len(x))\n",
    "\n",
    "x = np.vstack((ones,x))\n",
    "\n",
    "x = x.T\n",
    "\n",
    "y = stock_data_adj_close.MSFT.values"
   ]
  },
  {
   "cell_type": "code",
   "execution_count": 75,
   "id": "e0f7df07-c67e-4fca-aac4-2ef7993dcddf",
   "metadata": {},
   "outputs": [
    {
     "name": "stdout",
     "output_type": "stream",
     "text": [
      "[0.00867069 0.96868145]\n"
     ]
    }
   ],
   "source": [
    "betas = np.linalg.inv(x.T @ x) @ x.T @ y\n",
    "print(betas)"
   ]
  },
  {
   "cell_type": "code",
   "execution_count": 76,
   "id": "e4d3083f-bc96-4f04-870c-08d7d04040f6",
   "metadata": {},
   "outputs": [],
   "source": [
    "x = x[:,1]"
   ]
  },
  {
   "cell_type": "code",
   "execution_count": 77,
   "id": "0c69e073-5959-434a-a68b-23c8246fd792",
   "metadata": {},
   "outputs": [
    {
     "name": "stdout",
     "output_type": "stream",
     "text": [
      "0.008670693899914796 0.9686813846754929\n"
     ]
    }
   ],
   "source": [
    "# initialize the parameters at 0 (not always a good idea)\n",
    "b_1 = 0.01\n",
    "b_0 = 0.01\n",
    "\n",
    "alpha = 0.1 # Learning rate\n",
    "epochs = 50000 # Number of descent iterations\n",
    "\n",
    "n = float(len(x)) # Number of elements in x\n",
    "\n",
    "# Gradient descent\n",
    "for i in range(epochs):\n",
    "    y_pred = b_1*x + b_0 # Current predicted value of y\n",
    "    D_b_1 = (-2/n) * sum(x * (y - y_pred)) # Derivated wrt b_1\n",
    "    D_b_0 = (-2/n) * sum(y - y_pred) # Derivative wrt b_0\n",
    "    b_1 = b_1 - alpha * D_b_1 # Update b_1\n",
    "    b_0 = b_0 - alpha * D_b_0 # Update b_0\n",
    "\n",
    "print(b_0,b_1)"
   ]
  },
  {
   "cell_type": "markdown",
   "id": "8c726530-55f7-4d2b-a031-7dc3b2854d1c",
   "metadata": {},
   "source": [
    "Now let's see how is done using sklearn"
   ]
  },
  {
   "cell_type": "code",
   "execution_count": 78,
   "id": "77271363-0090-4685-a955-b1d14869c755",
   "metadata": {},
   "outputs": [],
   "source": [
    "from sklearn.linear_model import LinearRegression\n",
    "from matplotlib import pyplot as plt"
   ]
  },
  {
   "cell_type": "code",
   "execution_count": 79,
   "id": "a1d08019-8523-4f7d-92bd-db2417218669",
   "metadata": {},
   "outputs": [
    {
     "name": "stdout",
     "output_type": "stream",
     "text": [
      "0.41510514746614235\n"
     ]
    }
   ],
   "source": [
    "# Keep in mind we would need to split this data, However, this data is timeseries so we can only test it by using it to predict forward\n",
    "regr = LinearRegression()\n",
    "x = x.reshape(-1,1) # shape needed for sklearn\n",
    "regr.fit(x,y)\n",
    "print(regr.score(x,y)) # give us r^2"
   ]
  },
  {
   "cell_type": "code",
   "execution_count": 80,
   "id": "b30c8f9b-6ba3-41f0-b694-09c7e9607955",
   "metadata": {},
   "outputs": [
    {
     "data": {
      "image/png": "[encoded data removed]",
      "text/plain": [
       "<Figure size 640x480 with 1 Axes>"
      ]
     },
     "metadata": {},
     "output_type": "display_data"
    }
   ],
   "source": [
    "plt.scatter(x,y, color = 'b')\n",
    "plt.plot(x,regr.predict(x),color='k')\n",
    "\n",
    "plt.show()"
   ]
  },
  {
   "cell_type": "code",
   "execution_count": 91,
   "id": "ca755e7c-d499-4ca8-987e-09613a33fc76",
   "metadata": {},
   "outputs": [
    {
     "name": "stdout",
     "output_type": "stream",
     "text": [
      "[*********************100%***********************]  2 of 2 completed\n"
     ]
    }
   ],
   "source": [
    "#Predict going forward\n",
    "start_date = datetime(2022,1,1)\n",
    "end_date = datetime(2022,12,31)\n",
    "\n",
    "stock_data = yf.download('MSFT SPY',\n",
    "                         interval = \"1mo\",\n",
    "                         start=start_date,\n",
    "                         end=end_date)\n",
    "\n",
    "stock_data_adj_close = stock_data.iloc[:, stock_data.columns.get_level_values(0) == 'Adj Close'].pct_change().dropna()\n",
    "\n",
    "stock_data_adj_close.columns = ['MSFT', 'SPY']\n",
    "\n",
    "x = stock_data_adj_close.SPY.values\n",
    "x = x.reshape(-1,1)\n",
    "\n",
    "y = stock_data_adj_close.MSFT.values"
   ]
  },
  {
   "cell_type": "code",
   "execution_count": 92,
   "id": "45a25746-3434-4135-a1bd-562ec3f5adde",
   "metadata": {},
   "outputs": [
    {
     "data": {
      "text/plain": [
       "0.6960132076031037"
      ]
     },
     "execution_count": 92,
     "metadata": {},
     "output_type": "execute_result"
    }
   ],
   "source": [
    "from sklearn.metrics import r2_score\n",
    "\n",
    "r2_score(y,regr.predict(x))"
   ]
  },
  {
   "cell_type": "code",
   "execution_count": 93,
   "id": "fb758823-718f-4c5d-90b1-e3cd00d5239e",
   "metadata": {},
   "outputs": [
    {
     "data": {
      "image/png": "[encoded data removed]",
      "text/plain": [
       "<Figure size 640x480 with 1 Axes>"
      ]
     },
     "metadata": {},
     "output_type": "display_data"
    }
   ],
   "source": [
    "plt.scatter(x,y,color = 'b')\n",
    "\n",
    "plt.show()"
   ]
  },
  {
   "cell_type": "code",
   "execution_count": null,
   "id": "6d0892c9-f711-4290-9e0f-37f992fa04ef",
   "metadata": {},
   "outputs": [],
   "source": []
  }
 ],
 "metadata": {
  "kernelspec": {
   "display_name": "Python 3 (ipykernel)",
   "language": "python",
   "name": "python3"
  },
  "language_info": {
   "codemirror_mode": {
    "name": "ipython",
    "version": 3
   },
   "file_extension": ".py",
   "mimetype": "text/x-python",
   "name": "python",
   "nbconvert_exporter": "python",
   "pygments_lexer": "ipython3",
   "version": "3.10.9"
  }
 },
 "nbformat": 4,
 "nbformat_minor": 5
}
